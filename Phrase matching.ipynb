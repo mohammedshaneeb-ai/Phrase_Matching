{
 "cells": [
  {
   "cell_type": "code",
   "execution_count": 3,
   "id": "f12984e2",
   "metadata": {},
   "outputs": [
    {
     "name": "stdout",
     "output_type": "stream",
     "text": [
      "[natural language processing, machine learning, deep learning]\n",
      "Matched phrase: 'natural language processing'\n",
      "Matched phrase: 'machine learning'\n"
     ]
    }
   ],
   "source": [
    "import spacy\n",
    "from spacy.matcher import PhraseMatcher\n",
    "\n",
    "# Load the spaCy model and create the Phrase Matcher instance\n",
    "nlp = spacy.load(\"en_core_web_sm\")\n",
    "matcher = PhraseMatcher(nlp.vocab)\n",
    "\n",
    "# Define the phrases you want to match\n",
    "phrase_patterns = [\"natural language processing\", \"machine learning\", \"deep learning\"]\n",
    "\n",
    "# Convert the phrases to Doc objects\n",
    "phrase_patterns_docs = [nlp(text) for text in phrase_patterns]\n",
    "print(phrase_patterns_docs)\n",
    "# Add the patterns to the matcher\n",
    "matcher.add(\"PhraseMatches\", None, *phrase_patterns_docs)\n",
    "\n",
    "# Process the input text\n",
    "text = \"natural language processing and machine learning are subfields of AI.\"\n",
    "doc = nlp(text)\n",
    "\n",
    "# Find matches\n",
    "matches = matcher(doc)\n",
    "\n",
    "# Extract matched spans\n",
    "for match_id, start, end in matches:\n",
    "    matched_phrase = doc[start:end].text\n",
    "    print(f\"Matched phrase: '{matched_phrase}'\")\n"
   ]
  },
  {
   "cell_type": "code",
   "execution_count": null,
   "id": "03528b65",
   "metadata": {},
   "outputs": [],
   "source": []
  }
 ],
 "metadata": {
  "kernelspec": {
   "display_name": "Python 3 (ipykernel)",
   "language": "python",
   "name": "python3"
  },
  "language_info": {
   "codemirror_mode": {
    "name": "ipython",
    "version": 3
   },
   "file_extension": ".py",
   "mimetype": "text/x-python",
   "name": "python",
   "nbconvert_exporter": "python",
   "pygments_lexer": "ipython3",
   "version": "3.9.13"
  }
 },
 "nbformat": 4,
 "nbformat_minor": 5
}
