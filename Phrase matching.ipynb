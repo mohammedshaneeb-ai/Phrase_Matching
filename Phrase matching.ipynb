{
 "cells": [
  {
   "cell_type": "code",
   "execution_count": 1,
   "id": "cfd57ae3",
   "metadata": {},
   "outputs": [
    {
     "name": "stderr",
     "output_type": "stream",
     "text": [
      "2023-07-17 18:14:14.925349: I tensorflow/tsl/cuda/cudart_stub.cc:28] Could not find cuda drivers on your machine, GPU will not be used.\n",
      "2023-07-17 18:14:14.964030: I tensorflow/tsl/cuda/cudart_stub.cc:28] Could not find cuda drivers on your machine, GPU will not be used.\n",
      "2023-07-17 18:14:14.964929: I tensorflow/core/platform/cpu_feature_guard.cc:182] This TensorFlow binary is optimized to use available CPU instructions in performance-critical operations.\n",
      "To enable the following instructions: AVX2 FMA, in other operations, rebuild TensorFlow with the appropriate compiler flags.\n",
      "2023-07-17 18:14:15.810785: W tensorflow/compiler/tf2tensorrt/utils/py_utils.cc:38] TF-TRT Warning: Could not find TensorRT\n"
     ]
    }
   ],
   "source": [
    "import spacy\n",
    "from spacy.matcher import Matcher"
   ]
  },
  {
   "cell_type": "code",
   "execution_count": 2,
   "id": "c6ef56bb",
   "metadata": {},
   "outputs": [],
   "source": [
    "nlp = spacy.load('en_core_web_sm')\n",
    "matcher = Matcher(nlp.vocab)"
   ]
  },
  {
   "cell_type": "code",
   "execution_count": 3,
   "id": "f8b7a30b",
   "metadata": {},
   "outputs": [],
   "source": [
    "# pattern\n",
    "pattern = [{'LOWER':'hello'},{'IS_PUNCT':True},{'LOWER':'world'}]\n",
    "matcher.add('Hello world',[pattern])"
   ]
  },
  {
   "cell_type": "code",
   "execution_count": 4,
   "id": "42ff1374",
   "metadata": {},
   "outputs": [
    {
     "data": {
      "text/plain": [
       "Hello, world! Hello world!"
      ]
     },
     "execution_count": 4,
     "metadata": {},
     "output_type": "execute_result"
    }
   ],
   "source": [
    "doc = nlp(\"Hello, world! Hello world!\")\n",
    "doc"
   ]
  },
  {
   "cell_type": "code",
   "execution_count": 5,
   "id": "b7d85ebe",
   "metadata": {},
   "outputs": [
    {
     "data": {
      "text/plain": [
       "Hello, world"
      ]
     },
     "execution_count": 5,
     "metadata": {},
     "output_type": "execute_result"
    }
   ],
   "source": [
    "doc[0:3]"
   ]
  },
  {
   "cell_type": "code",
   "execution_count": 6,
   "id": "a331b1f0",
   "metadata": {},
   "outputs": [],
   "source": [
    "matches = matcher(doc)"
   ]
  },
  {
   "cell_type": "code",
   "execution_count": 7,
   "id": "a6efc598",
   "metadata": {},
   "outputs": [
    {
     "name": "stdout",
     "output_type": "stream",
     "text": [
      "6760932446404879437 Hello world 0 3 Hello, world\n"
     ]
    }
   ],
   "source": [
    "for match_id,start,end in matches:\n",
    "    string_id = nlp.vocab.strings[match_id]\n",
    "    span = doc[start:end]\n",
    "    print(match_id,string_id,start,end,span.text)"
   ]
  },
  {
   "cell_type": "markdown",
   "id": "1a489d23",
   "metadata": {},
   "source": [
    "### Adding multiple patterns\n"
   ]
  },
  {
   "cell_type": "code",
   "execution_count": 8,
   "id": "d4ceb3b4",
   "metadata": {},
   "outputs": [],
   "source": [
    "patterns = [\n",
    "    [{'LOWER':'hello'},{'IS_PUNCT':True},{'LOWER':'world'}],\n",
    "    [{'LOWER':'hello'},{'LOWER':'world'}]\n",
    "]"
   ]
  },
  {
   "cell_type": "code",
   "execution_count": 9,
   "id": "5ad113b0",
   "metadata": {},
   "outputs": [],
   "source": [
    "matcher.add('helloword',patterns)"
   ]
  },
  {
   "cell_type": "code",
   "execution_count": 10,
   "id": "c4a6a37a",
   "metadata": {},
   "outputs": [],
   "source": [
    "matches = None\n",
    "matches"
   ]
  },
  {
   "cell_type": "code",
   "execution_count": 11,
   "id": "2fdf7062",
   "metadata": {},
   "outputs": [],
   "source": [
    "matches = matcher(doc)"
   ]
  },
  {
   "cell_type": "code",
   "execution_count": 12,
   "id": "fdb08b93",
   "metadata": {},
   "outputs": [
    {
     "name": "stdout",
     "output_type": "stream",
     "text": [
      "6760932446404879437 Hello world 0 3 Hello, world\n",
      "8681523543793442230 helloword 0 3 Hello, world\n",
      "8681523543793442230 helloword 4 6 Hello world\n"
     ]
    }
   ],
   "source": [
    "for match_id, start, end in matches:\n",
    "    string_id = nlp.vocab.strings[match_id]\n",
    "    span = doc[start:end]\n",
    "    print(match_id,string_id,start,end,span.text)"
   ]
  },
  {
   "cell_type": "markdown",
   "id": "5953cb96",
   "metadata": {},
   "source": [
    "### Experimenting with more Token attributes"
   ]
  },
  {
   "cell_type": "code",
   "execution_count": 13,
   "id": "bdf95085",
   "metadata": {},
   "outputs": [],
   "source": [
    "patterns = [\n",
    "    [{'LOWER':'hello'},{'IS_PUNCT':True},{'LOWER':'world'}],\n",
    "    [{'LOWER':'hello'},{'LOWER':'world'}],\n",
    "    [{'LOWER':'hello'},{'IS_DIGIT':True},{'LOWER':'world'}]\n",
    "]"
   ]
  },
  {
   "cell_type": "code",
   "execution_count": 14,
   "id": "5c5bb321",
   "metadata": {},
   "outputs": [
    {
     "data": {
      "text/plain": [
       "Hello, world! Hello world! Hello 4 world"
      ]
     },
     "execution_count": 14,
     "metadata": {},
     "output_type": "execute_result"
    }
   ],
   "source": [
    "doc = nlp(\"Hello, world! Hello world! Hello 4 world\")\n",
    "doc"
   ]
  },
  {
   "cell_type": "code",
   "execution_count": 15,
   "id": "fc3a6fc2",
   "metadata": {},
   "outputs": [],
   "source": [
    "matcher.add('helloworld',patterns)"
   ]
  },
  {
   "cell_type": "code",
   "execution_count": 16,
   "id": "694f7199",
   "metadata": {},
   "outputs": [],
   "source": [
    "matches = matcher(doc)"
   ]
  },
  {
   "cell_type": "code",
   "execution_count": 17,
   "id": "d409f617",
   "metadata": {},
   "outputs": [
    {
     "name": "stdout",
     "output_type": "stream",
     "text": [
      "8681523543793442230 helloword 0 3 Hello, world\n",
      "8681523543793442230 helloword 0 3 Hello, world\n",
      "8681523543793442230 helloword 0 3 Hello, world\n",
      "8681523543793442230 helloword 4 6 Hello world\n",
      "8681523543793442230 helloword 4 6 Hello world\n",
      "8681523543793442230 helloword 7 10 Hello 4 world\n"
     ]
    }
   ],
   "source": [
    "for matcher_id,start,end in matches:\n",
    "    string_id = nlp.vocab.strings[match_id]\n",
    "    span = doc[start:end]\n",
    "    print(match_id,string_id,start,end, span.text)"
   ]
  },
  {
   "cell_type": "code",
   "execution_count": null,
   "id": "9b4aaf45",
   "metadata": {},
   "outputs": [],
   "source": [
    "pattern = [{'POS': 'ADJ', 'OP': '?', 'LIKE_NUM': True},\n",
    "           {'LEMMA': 'match', 'POS': 'NOUN'},\n",
    "           {'LEMMA': 'be'}]"
   ]
  },
  {
   "cell_type": "code",
   "execution_count": null,
   "id": "6a547227",
   "metadata": {},
   "outputs": [],
   "source": []
  },
  {
   "cell_type": "code",
   "execution_count": null,
   "id": "ad8cbf8f",
   "metadata": {},
   "outputs": [],
   "source": []
  },
  {
   "cell_type": "code",
   "execution_count": null,
   "id": "9d8482ff",
   "metadata": {},
   "outputs": [],
   "source": []
  },
  {
   "cell_type": "code",
   "execution_count": null,
   "id": "7af3c61d",
   "metadata": {},
   "outputs": [],
   "source": []
  },
  {
   "cell_type": "code",
   "execution_count": null,
   "id": "d839f40f",
   "metadata": {},
   "outputs": [],
   "source": []
  },
  {
   "cell_type": "code",
   "execution_count": null,
   "id": "9e0c524e",
   "metadata": {},
   "outputs": [],
   "source": []
  },
  {
   "cell_type": "code",
   "execution_count": null,
   "id": "b3abd72a",
   "metadata": {},
   "outputs": [],
   "source": []
  }
 ],
 "metadata": {
  "kernelspec": {
   "display_name": "Python 3 (ipykernel)",
   "language": "python",
   "name": "python3"
  },
  "language_info": {
   "codemirror_mode": {
    "name": "ipython",
    "version": 3
   },
   "file_extension": ".py",
   "mimetype": "text/x-python",
   "name": "python",
   "nbconvert_exporter": "python",
   "pygments_lexer": "ipython3",
   "version": "3.9.13"
  }
 },
 "nbformat": 4,
 "nbformat_minor": 5
}
