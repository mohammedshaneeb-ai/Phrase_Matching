{
 "cells": [
  {
   "cell_type": "code",
   "execution_count": 1,
   "id": "97d55936",
   "metadata": {},
   "outputs": [
    {
     "name": "stderr",
     "output_type": "stream",
     "text": [
      "2023-07-17 18:14:14.925349: I tensorflow/tsl/cuda/cudart_stub.cc:28] Could not find cuda drivers on your machine, GPU will not be used.\n",
      "2023-07-17 18:14:14.964030: I tensorflow/tsl/cuda/cudart_stub.cc:28] Could not find cuda drivers on your machine, GPU will not be used.\n",
      "2023-07-17 18:14:14.964929: I tensorflow/core/platform/cpu_feature_guard.cc:182] This TensorFlow binary is optimized to use available CPU instructions in performance-critical operations.\n",
      "To enable the following instructions: AVX2 FMA, in other operations, rebuild TensorFlow with the appropriate compiler flags.\n",
      "2023-07-17 18:14:15.810785: W tensorflow/compiler/tf2tensorrt/utils/py_utils.cc:38] TF-TRT Warning: Could not find TensorRT\n"
     ]
    }
   ],
   "source": [
    "import spacy\n",
    "from spacy.matcher import Matcher"
   ]
  },
  {
   "cell_type": "code",
   "execution_count": 2,
   "id": "d1d97a48",
   "metadata": {},
   "outputs": [],
   "source": [
    "nlp = spacy.load('en_core_web_sm')\n",
    "matcher = Matcher(nlp.vocab)"
   ]
  },
  {
   "cell_type": "code",
   "execution_count": 3,
   "id": "1329d55f",
   "metadata": {},
   "outputs": [],
   "source": [
    "# pattern\n",
    "pattern = [{'LOWER':'hello'},{'IS_PUNCT':True},{'LOWER':'world'}]\n",
    "matcher.add('Hello world',[pattern])"
   ]
  },
  {
   "cell_type": "code",
   "execution_count": 4,
   "id": "bb93c411",
   "metadata": {},
   "outputs": [
    {
     "data": {
      "text/plain": [
       "Hello, world! Hello world!"
      ]
     },
     "execution_count": 4,
     "metadata": {},
     "output_type": "execute_result"
    }
   ],
   "source": [
    "doc = nlp(\"Hello, world! Hello world!\")\n",
    "doc"
   ]
  },
  {
   "cell_type": "code",
   "execution_count": 5,
   "id": "8b50ed7e",
   "metadata": {},
   "outputs": [
    {
     "data": {
      "text/plain": [
       "Hello, world"
      ]
     },
     "execution_count": 5,
     "metadata": {},
     "output_type": "execute_result"
    }
   ],
   "source": [
    "doc[0:3]"
   ]
  },
  {
   "cell_type": "code",
   "execution_count": 6,
   "id": "46cad846",
   "metadata": {},
   "outputs": [],
   "source": [
    "matches = matcher(doc)"
   ]
  },
  {
   "cell_type": "code",
   "execution_count": 7,
   "id": "fc6aef27",
   "metadata": {},
   "outputs": [
    {
     "name": "stdout",
     "output_type": "stream",
     "text": [
      "6760932446404879437 Hello world 0 3 Hello, world\n"
     ]
    }
   ],
   "source": [
    "for match_id,start,end in matches:\n",
    "    string_id = nlp.vocab.strings[match_id]\n",
    "    span = doc[start:end]\n",
    "    print(match_id,string_id,start,end,span.text)"
   ]
  },
  {
   "cell_type": "markdown",
   "id": "e1b03848",
   "metadata": {},
   "source": [
    "### Adding multiple patterns\n"
   ]
  },
  {
   "cell_type": "code",
   "execution_count": 8,
   "id": "69e2ae75",
   "metadata": {},
   "outputs": [],
   "source": [
    "patterns = [\n",
    "    [{'LOWER':'hello'},{'IS_PUNCT':True},{'LOWER':'world'}],\n",
    "    [{'LOWER':'hello'},{'LOWER':'world'}]\n",
    "]"
   ]
  },
  {
   "cell_type": "code",
   "execution_count": 9,
   "id": "dfdcf19c",
   "metadata": {},
   "outputs": [],
   "source": [
    "matcher.add('helloword',patterns)"
   ]
  },
  {
   "cell_type": "code",
   "execution_count": 10,
   "id": "6bd61ed5",
   "metadata": {},
   "outputs": [],
   "source": [
    "matches = None\n",
    "matches"
   ]
  },
  {
   "cell_type": "code",
   "execution_count": 11,
   "id": "10b76f4b",
   "metadata": {},
   "outputs": [],
   "source": [
    "matches = matcher(doc)"
   ]
  },
  {
   "cell_type": "code",
   "execution_count": 12,
   "id": "502b7ba4",
   "metadata": {},
   "outputs": [
    {
     "name": "stdout",
     "output_type": "stream",
     "text": [
      "6760932446404879437 Hello world 0 3 Hello, world\n",
      "8681523543793442230 helloword 0 3 Hello, world\n",
      "8681523543793442230 helloword 4 6 Hello world\n"
     ]
    }
   ],
   "source": [
    "for match_id, start, end in matches:\n",
    "    string_id = nlp.vocab.strings[match_id]\n",
    "    span = doc[start:end]\n",
    "    print(match_id,string_id,start,end,span.text)"
   ]
  },
  {
   "cell_type": "markdown",
   "id": "36b586de",
   "metadata": {},
   "source": [
    "### Experimenting with more Token attributes"
   ]
  },
  {
   "cell_type": "code",
   "execution_count": 13,
   "id": "17c0c257",
   "metadata": {},
   "outputs": [],
   "source": [
    "patterns = [\n",
    "    [{'LOWER':'hello'},{'IS_PUNCT':True},{'LOWER':'world'}],\n",
    "    [{'LOWER':'hello'},{'LOWER':'world'}],\n",
    "    [{'LOWER':'hello'},{'IS_DIGIT':True},{'LOWER':'world'}]\n",
    "]"
   ]
  },
  {
   "cell_type": "code",
   "execution_count": 14,
   "id": "713e653c",
   "metadata": {},
   "outputs": [
    {
     "data": {
      "text/plain": [
       "Hello, world! Hello world! Hello 4 world"
      ]
     },
     "execution_count": 14,
     "metadata": {},
     "output_type": "execute_result"
    }
   ],
   "source": [
    "doc = nlp(\"Hello, world! Hello world! Hello 4 world\")\n",
    "doc"
   ]
  },
  {
   "cell_type": "code",
   "execution_count": 15,
   "id": "3a423367",
   "metadata": {},
   "outputs": [],
   "source": [
    "matcher.add('helloworld',patterns)"
   ]
  },
  {
   "cell_type": "code",
   "execution_count": 16,
   "id": "b3de277f",
   "metadata": {},
   "outputs": [],
   "source": [
    "matches = matcher(doc)"
   ]
  },
  {
   "cell_type": "code",
   "execution_count": 17,
   "id": "6270f707",
   "metadata": {},
   "outputs": [
    {
     "name": "stdout",
     "output_type": "stream",
     "text": [
      "8681523543793442230 helloword 0 3 Hello, world\n",
      "8681523543793442230 helloword 0 3 Hello, world\n",
      "8681523543793442230 helloword 0 3 Hello, world\n",
      "8681523543793442230 helloword 4 6 Hello world\n",
      "8681523543793442230 helloword 4 6 Hello world\n",
      "8681523543793442230 helloword 7 10 Hello 4 world\n"
     ]
    }
   ],
   "source": [
    "for matcher_id,start,end in matches:\n",
    "    string_id = nlp.vocab.strings[match_id]\n",
    "    span = doc[start:end]\n",
    "    print(match_id,string_id,start,end, span.text)"
   ]
  },
  {
   "cell_type": "code",
   "execution_count": null,
   "id": "f5fdc948",
   "metadata": {},
   "outputs": [],
   "source": []
  },
  {
   "cell_type": "code",
   "execution_count": null,
   "id": "42fd9bfd",
   "metadata": {},
   "outputs": [],
   "source": []
  },
  {
   "cell_type": "code",
   "execution_count": null,
   "id": "08ae614e",
   "metadata": {},
   "outputs": [],
   "source": []
  },
  {
   "cell_type": "code",
   "execution_count": null,
   "id": "696545dd",
   "metadata": {},
   "outputs": [],
   "source": []
  },
  {
   "cell_type": "code",
   "execution_count": null,
   "id": "ecfe1696",
   "metadata": {},
   "outputs": [],
   "source": []
  },
  {
   "cell_type": "code",
   "execution_count": null,
   "id": "7b1ede20",
   "metadata": {},
   "outputs": [],
   "source": []
  },
  {
   "cell_type": "code",
   "execution_count": null,
   "id": "948a6c3d",
   "metadata": {},
   "outputs": [],
   "source": []
  },
  {
   "cell_type": "code",
   "execution_count": null,
   "id": "a77735d5",
   "metadata": {},
   "outputs": [],
   "source": []
  }
 ],
 "metadata": {
  "kernelspec": {
   "display_name": "Python 3 (ipykernel)",
   "language": "python",
   "name": "python3"
  },
  "language_info": {
   "codemirror_mode": {
    "name": "ipython",
    "version": 3
   },
   "file_extension": ".py",
   "mimetype": "text/x-python",
   "name": "python",
   "nbconvert_exporter": "python",
   "pygments_lexer": "ipython3",
   "version": "3.9.13"
  }
 },
 "nbformat": 4,
 "nbformat_minor": 5
}
